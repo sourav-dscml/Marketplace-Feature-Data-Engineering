{
 "cells": [
  {
   "cell_type": "code",
   "execution_count": 1,
   "metadata": {},
   "outputs": [],
   "source": [
    "import pandas as pd\n",
    "import numpy as np\n",
    "from datetime import datetime, timedelta ,date\n",
    "\n",
    "import warnings\n",
    "warnings.filterwarnings('ignore')"
   ]
  },
  {
   "cell_type": "code",
   "execution_count": 2,
   "metadata": {},
   "outputs": [],
   "source": [
    "usertab = pd.read_csv(\"userTable.csv\")\n",
    "vistorlog = pd.read_csv(\"VisitorLogsData.csv\")"
   ]
  },
  {
   "cell_type": "code",
   "execution_count": 3,
   "metadata": {},
   "outputs": [
    {
     "data": {
      "text/html": [
       "<div>\n",
       "<style scoped>\n",
       "    .dataframe tbody tr th:only-of-type {\n",
       "        vertical-align: middle;\n",
       "    }\n",
       "\n",
       "    .dataframe tbody tr th {\n",
       "        vertical-align: top;\n",
       "    }\n",
       "\n",
       "    .dataframe thead th {\n",
       "        text-align: right;\n",
       "    }\n",
       "</style>\n",
       "<table border=\"1\" class=\"dataframe\">\n",
       "  <thead>\n",
       "    <tr style=\"text-align: right;\">\n",
       "      <th></th>\n",
       "      <th>UserID</th>\n",
       "      <th>Signup Date</th>\n",
       "      <th>User Segment</th>\n",
       "    </tr>\n",
       "  </thead>\n",
       "  <tbody>\n",
       "    <tr>\n",
       "      <th>0</th>\n",
       "      <td>U133159</td>\n",
       "      <td>2018-04-14 07:01:16.202607+00:00</td>\n",
       "      <td>C</td>\n",
       "    </tr>\n",
       "    <tr>\n",
       "      <th>1</th>\n",
       "      <td>U129368</td>\n",
       "      <td>2017-12-02 09:38:41.584270+00:00</td>\n",
       "      <td>B</td>\n",
       "    </tr>\n",
       "    <tr>\n",
       "      <th>2</th>\n",
       "      <td>U109654</td>\n",
       "      <td>2013-03-19 11:38:55+00:00</td>\n",
       "      <td>B</td>\n",
       "    </tr>\n",
       "    <tr>\n",
       "      <th>3</th>\n",
       "      <td>U108998</td>\n",
       "      <td>2018-01-18 08:29:51.627954+00:00</td>\n",
       "      <td>C</td>\n",
       "    </tr>\n",
       "    <tr>\n",
       "      <th>4</th>\n",
       "      <td>U131393</td>\n",
       "      <td>2018-03-27 08:05:28.806800+00:00</td>\n",
       "      <td>B</td>\n",
       "    </tr>\n",
       "  </tbody>\n",
       "</table>\n",
       "</div>"
      ],
      "text/plain": [
       "    UserID                       Signup Date User Segment\n",
       "0  U133159  2018-04-14 07:01:16.202607+00:00            C\n",
       "1  U129368  2017-12-02 09:38:41.584270+00:00            B\n",
       "2  U109654         2013-03-19 11:38:55+00:00            B\n",
       "3  U108998  2018-01-18 08:29:51.627954+00:00            C\n",
       "4  U131393  2018-03-27 08:05:28.806800+00:00            B"
      ]
     },
     "execution_count": 3,
     "metadata": {},
     "output_type": "execute_result"
    }
   ],
   "source": [
    "usertab.head()"
   ]
  },
  {
   "cell_type": "code",
   "execution_count": 4,
   "metadata": {},
   "outputs": [
    {
     "data": {
      "text/html": [
       "<div>\n",
       "<style scoped>\n",
       "    .dataframe tbody tr th:only-of-type {\n",
       "        vertical-align: middle;\n",
       "    }\n",
       "\n",
       "    .dataframe tbody tr th {\n",
       "        vertical-align: top;\n",
       "    }\n",
       "\n",
       "    .dataframe thead th {\n",
       "        text-align: right;\n",
       "    }\n",
       "</style>\n",
       "<table border=\"1\" class=\"dataframe\">\n",
       "  <thead>\n",
       "    <tr style=\"text-align: right;\">\n",
       "      <th></th>\n",
       "      <th>webClientID</th>\n",
       "      <th>VisitDateTime</th>\n",
       "      <th>ProductID</th>\n",
       "      <th>UserID</th>\n",
       "      <th>Activity</th>\n",
       "      <th>Browser</th>\n",
       "      <th>OS</th>\n",
       "      <th>City</th>\n",
       "      <th>Country</th>\n",
       "    </tr>\n",
       "  </thead>\n",
       "  <tbody>\n",
       "    <tr>\n",
       "      <th>0</th>\n",
       "      <td>WI10000050298</td>\n",
       "      <td>2018-05-07 04:28:45.970</td>\n",
       "      <td>pr100631</td>\n",
       "      <td>NaN</td>\n",
       "      <td>NaN</td>\n",
       "      <td>Chrome Mobile</td>\n",
       "      <td>Android</td>\n",
       "      <td>Chennai</td>\n",
       "      <td>India</td>\n",
       "    </tr>\n",
       "    <tr>\n",
       "      <th>1</th>\n",
       "      <td>WI10000025922</td>\n",
       "      <td>2018-05-13 07:26:04.964</td>\n",
       "      <td>pr100707</td>\n",
       "      <td>NaN</td>\n",
       "      <td>NaN</td>\n",
       "      <td>Chrome</td>\n",
       "      <td>Windows</td>\n",
       "      <td>NaN</td>\n",
       "      <td>Taiwan</td>\n",
       "    </tr>\n",
       "    <tr>\n",
       "      <th>2</th>\n",
       "      <td>WI100000204522</td>\n",
       "      <td>2018-05-11 11:43:42.832</td>\n",
       "      <td>pr100030</td>\n",
       "      <td>NaN</td>\n",
       "      <td>click</td>\n",
       "      <td>Chrome</td>\n",
       "      <td>windows</td>\n",
       "      <td>Gurgaon</td>\n",
       "      <td>India</td>\n",
       "    </tr>\n",
       "    <tr>\n",
       "      <th>3</th>\n",
       "      <td>WI10000011974</td>\n",
       "      <td>2018-05-13 15:20:23.436</td>\n",
       "      <td>Pr100192</td>\n",
       "      <td>NaN</td>\n",
       "      <td>CLICK</td>\n",
       "      <td>Chrome</td>\n",
       "      <td>Windows</td>\n",
       "      <td></td>\n",
       "      <td></td>\n",
       "    </tr>\n",
       "    <tr>\n",
       "      <th>4</th>\n",
       "      <td>WI100000441953</td>\n",
       "      <td>2018-05-08 20:44:25.238</td>\n",
       "      <td>Pr100762</td>\n",
       "      <td>NaN</td>\n",
       "      <td>click</td>\n",
       "      <td>Chrome</td>\n",
       "      <td>mac os x</td>\n",
       "      <td>Iselin</td>\n",
       "      <td>United States</td>\n",
       "    </tr>\n",
       "  </tbody>\n",
       "</table>\n",
       "</div>"
      ],
      "text/plain": [
       "      webClientID            VisitDateTime ProductID UserID Activity  \\\n",
       "0   WI10000050298  2018-05-07 04:28:45.970  pr100631    NaN      NaN   \n",
       "1   WI10000025922  2018-05-13 07:26:04.964  pr100707    NaN      NaN   \n",
       "2  WI100000204522  2018-05-11 11:43:42.832  pr100030    NaN    click   \n",
       "3   WI10000011974  2018-05-13 15:20:23.436  Pr100192    NaN    CLICK   \n",
       "4  WI100000441953  2018-05-08 20:44:25.238  Pr100762    NaN    click   \n",
       "\n",
       "         Browser        OS     City        Country  \n",
       "0  Chrome Mobile   Android  Chennai          India  \n",
       "1         Chrome   Windows      NaN         Taiwan  \n",
       "2         Chrome   windows  Gurgaon          India  \n",
       "3         Chrome   Windows                          \n",
       "4         Chrome  mac os x   Iselin  United States  "
      ]
     },
     "execution_count": 4,
     "metadata": {},
     "output_type": "execute_result"
    }
   ],
   "source": [
    "vistorlog.head()"
   ]
  },
  {
   "cell_type": "code",
   "execution_count": 5,
   "metadata": {},
   "outputs": [
    {
     "name": "stdout",
     "output_type": "stream",
     "text": [
      "(34050, 3)\n",
      "(6588000, 9)\n"
     ]
    }
   ],
   "source": [
    "print(usertab.shape)\n",
    "print(vistorlog.shape)"
   ]
  },
  {
   "cell_type": "code",
   "execution_count": 6,
   "metadata": {},
   "outputs": [
    {
     "name": "stdout",
     "output_type": "stream",
     "text": [
      "<class 'pandas.core.frame.DataFrame'>\n",
      "RangeIndex: 34050 entries, 0 to 34049\n",
      "Data columns (total 3 columns):\n",
      " #   Column        Non-Null Count  Dtype \n",
      "---  ------        --------------  ----- \n",
      " 0   UserID        34050 non-null  object\n",
      " 1   Signup Date   34050 non-null  object\n",
      " 2   User Segment  34050 non-null  object\n",
      "dtypes: object(3)\n",
      "memory usage: 798.2+ KB\n"
     ]
    }
   ],
   "source": [
    "usertab.info()"
   ]
  },
  {
   "cell_type": "code",
   "execution_count": 7,
   "metadata": {},
   "outputs": [
    {
     "name": "stdout",
     "output_type": "stream",
     "text": [
      "<class 'pandas.core.frame.DataFrame'>\n",
      "RangeIndex: 6588000 entries, 0 to 6587999\n",
      "Data columns (total 9 columns):\n",
      " #   Column         Dtype \n",
      "---  ------         ----- \n",
      " 0   webClientID    object\n",
      " 1   VisitDateTime  object\n",
      " 2   ProductID      object\n",
      " 3   UserID         object\n",
      " 4   Activity       object\n",
      " 5   Browser        object\n",
      " 6   OS             object\n",
      " 7   City           object\n",
      " 8   Country        object\n",
      "dtypes: object(9)\n",
      "memory usage: 452.4+ MB\n"
     ]
    }
   ],
   "source": [
    "vistorlog.info()"
   ]
  },
  {
   "cell_type": "code",
   "execution_count": 8,
   "metadata": {},
   "outputs": [
    {
     "data": {
      "text/plain": [
       "webClientID      0.000000\n",
       "VisitDateTime    0.100017\n",
       "ProductID        0.080015\n",
       "UserID           0.901230\n",
       "Activity         0.135010\n",
       "Browser          0.000000\n",
       "OS               0.000000\n",
       "City             0.328754\n",
       "Country          0.060366\n",
       "dtype: float64"
      ]
     },
     "execution_count": 8,
     "metadata": {},
     "output_type": "execute_result"
    }
   ],
   "source": [
    "vistorlog.isnull().sum()/vistorlog.shape[0]"
   ]
  },
  {
   "cell_type": "code",
   "execution_count": 9,
   "metadata": {},
   "outputs": [],
   "source": [
    "vistorlog['VisitDateTime'].fillna(pd.to_datetime(pd.to_datetime('2018-5-28') - pd.Timedelta(days=21)),inplace=True) #choose 21 days before end date)"
   ]
  },
  {
   "cell_type": "code",
   "execution_count": 10,
   "metadata": {},
   "outputs": [],
   "source": [
    "#droping nullds in 'UserID','VisitDateTime'\n",
    "vistorlog.dropna(axis=0,subset=['UserID'], inplace=True)"
   ]
  },
  {
   "cell_type": "code",
   "execution_count": 11,
   "metadata": {},
   "outputs": [],
   "source": [
    "#Droping City and Country\n",
    "vistorlog.drop(['City','Country'],axis=1,inplace=True)\n",
    "usertab.drop(['User Segment'],axis=1,inplace=True)"
   ]
  },
  {
   "cell_type": "code",
   "execution_count": 12,
   "metadata": {},
   "outputs": [
    {
     "data": {
      "text/html": [
       "<div>\n",
       "<style scoped>\n",
       "    .dataframe tbody tr th:only-of-type {\n",
       "        vertical-align: middle;\n",
       "    }\n",
       "\n",
       "    .dataframe tbody tr th {\n",
       "        vertical-align: top;\n",
       "    }\n",
       "\n",
       "    .dataframe thead th {\n",
       "        text-align: right;\n",
       "    }\n",
       "</style>\n",
       "<table border=\"1\" class=\"dataframe\">\n",
       "  <thead>\n",
       "    <tr style=\"text-align: right;\">\n",
       "      <th></th>\n",
       "      <th>webClientID</th>\n",
       "      <th>VisitDateTime</th>\n",
       "      <th>ProductID</th>\n",
       "      <th>UserID</th>\n",
       "      <th>Activity</th>\n",
       "      <th>Browser</th>\n",
       "      <th>OS</th>\n",
       "    </tr>\n",
       "  </thead>\n",
       "  <tbody>\n",
       "    <tr>\n",
       "      <th>14</th>\n",
       "      <td>WI100000112772</td>\n",
       "      <td>1526366895249000000</td>\n",
       "      <td>Pr100017</td>\n",
       "      <td>U106593</td>\n",
       "      <td>click</td>\n",
       "      <td>Chrome Mobile</td>\n",
       "      <td>Android</td>\n",
       "    </tr>\n",
       "    <tr>\n",
       "      <th>21</th>\n",
       "      <td>WI1000009977</td>\n",
       "      <td>1527058921790000000</td>\n",
       "      <td>Pr101008</td>\n",
       "      <td>U108297</td>\n",
       "      <td>NaN</td>\n",
       "      <td>Chrome Mobile</td>\n",
       "      <td>Android</td>\n",
       "    </tr>\n",
       "    <tr>\n",
       "      <th>23</th>\n",
       "      <td>WI100000223826</td>\n",
       "      <td>2018-05-10 06:28:53.391</td>\n",
       "      <td>Pr100241</td>\n",
       "      <td>U132443</td>\n",
       "      <td>NaN</td>\n",
       "      <td>Firefox</td>\n",
       "      <td>Windows</td>\n",
       "    </tr>\n",
       "    <tr>\n",
       "      <th>24</th>\n",
       "      <td>WI10000021998</td>\n",
       "      <td>2018-05-08 12:40:02.153</td>\n",
       "      <td>pr100495</td>\n",
       "      <td>U134616</td>\n",
       "      <td>click</td>\n",
       "      <td>Chrome</td>\n",
       "      <td>Windows</td>\n",
       "    </tr>\n",
       "    <tr>\n",
       "      <th>33</th>\n",
       "      <td>WI10000036281</td>\n",
       "      <td>2018-05-11 15:35:43.689</td>\n",
       "      <td>Pr100363</td>\n",
       "      <td>U130784</td>\n",
       "      <td>click</td>\n",
       "      <td>Chrome</td>\n",
       "      <td>Chrome OS</td>\n",
       "    </tr>\n",
       "  </tbody>\n",
       "</table>\n",
       "</div>"
      ],
      "text/plain": [
       "       webClientID            VisitDateTime ProductID   UserID Activity  \\\n",
       "14  WI100000112772      1526366895249000000  Pr100017  U106593    click   \n",
       "21    WI1000009977      1527058921790000000  Pr101008  U108297      NaN   \n",
       "23  WI100000223826  2018-05-10 06:28:53.391  Pr100241  U132443      NaN   \n",
       "24   WI10000021998  2018-05-08 12:40:02.153  pr100495  U134616    click   \n",
       "33   WI10000036281  2018-05-11 15:35:43.689  Pr100363  U130784    click   \n",
       "\n",
       "          Browser         OS  \n",
       "14  Chrome Mobile    Android  \n",
       "21  Chrome Mobile    Android  \n",
       "23        Firefox    Windows  \n",
       "24         Chrome    Windows  \n",
       "33         Chrome  Chrome OS  "
      ]
     },
     "execution_count": 12,
     "metadata": {},
     "output_type": "execute_result"
    }
   ],
   "source": [
    "vistorlog.head()"
   ]
  },
  {
   "cell_type": "code",
   "execution_count": 13,
   "metadata": {},
   "outputs": [],
   "source": [
    "#Converting Unix date to normal date\n",
    "vistorlog['VisitDateTime'] = (vistorlog.VisitDateTime.apply(lambda x : pd.to_datetime(int(x)) if '-' not in str(x) else pd.to_datetime(x) ))"
   ]
  },
  {
   "cell_type": "code",
   "execution_count": 14,
   "metadata": {},
   "outputs": [],
   "source": [
    "#Filtering dataframe within provided date range 07-May-2018 to 27-May-2018.\n",
    "vistorlog_filter =  vistorlog[(vistorlog.VisitDateTime >= '2018-5-7') & (vistorlog.VisitDateTime < '2018-5-28')]"
   ]
  },
  {
   "cell_type": "code",
   "execution_count": 15,
   "metadata": {},
   "outputs": [],
   "source": [
    "#joining two tables\n",
    "\n",
    "# vistorlog_filter.join(usertab, on ='UserID',how='inner' ,sort=True)\n",
    "# df_inner = pd.merge(vistorlog_filter, usertab, on='UserID', how='inner',sort = True,)"
   ]
  },
  {
   "cell_type": "code",
   "execution_count": 16,
   "metadata": {},
   "outputs": [],
   "source": [
    "# df_inner.shape"
   ]
  },
  {
   "cell_type": "code",
   "execution_count": 17,
   "metadata": {},
   "outputs": [],
   "source": [
    "\n",
    "usertab['Signup Date'] = pd.to_datetime(usertab['Signup Date'])"
   ]
  },
  {
   "cell_type": "code",
   "execution_count": 18,
   "metadata": {},
   "outputs": [
    {
     "data": {
      "text/plain": [
       "webClientID       0.000000\n",
       "VisitDateTime     0.000000\n",
       "ProductID         7.985769\n",
       "UserID            0.000000\n",
       "Activity         13.486657\n",
       "Browser           0.000000\n",
       "OS                0.000000\n",
       "dtype: float64"
      ]
     },
     "execution_count": 18,
     "metadata": {},
     "output_type": "execute_result"
    }
   ],
   "source": [
    "vistorlog_filter.isnull().mean()*100"
   ]
  },
  {
   "cell_type": "code",
   "execution_count": 19,
   "metadata": {},
   "outputs": [],
   "source": [
    "vistorlog_filter.fillna('Missing',inplace=True)"
   ]
  },
  {
   "cell_type": "code",
   "execution_count": 20,
   "metadata": {},
   "outputs": [],
   "source": [
    "cat_var = [var for var in vistorlog_filter.columns if vistorlog_filter[var].dtype =='O']\n",
    "for var in cat_var:\n",
    "    vistorlog_filter[var]=vistorlog_filter[var].apply(lambda x : x.upper())\n",
    "    "
   ]
  },
  {
   "cell_type": "code",
   "execution_count": 21,
   "metadata": {},
   "outputs": [],
   "source": [
    "vistorlog_filter['ProductID'] = vistorlog_filter['ProductID'].apply(lambda x : np.nan if x=='MISSING' else x)\n",
    "vistorlog_filter['Activity'] = vistorlog_filter['Activity'].apply(lambda x : np.nan if x=='MISSING' else x)"
   ]
  },
  {
   "cell_type": "code",
   "execution_count": 22,
   "metadata": {},
   "outputs": [
    {
     "data": {
      "text/html": [
       "<div>\n",
       "<style scoped>\n",
       "    .dataframe tbody tr th:only-of-type {\n",
       "        vertical-align: middle;\n",
       "    }\n",
       "\n",
       "    .dataframe tbody tr th {\n",
       "        vertical-align: top;\n",
       "    }\n",
       "\n",
       "    .dataframe thead th {\n",
       "        text-align: right;\n",
       "    }\n",
       "</style>\n",
       "<table border=\"1\" class=\"dataframe\">\n",
       "  <thead>\n",
       "    <tr style=\"text-align: right;\">\n",
       "      <th></th>\n",
       "      <th>webClientID</th>\n",
       "      <th>VisitDateTime</th>\n",
       "      <th>ProductID</th>\n",
       "      <th>UserID</th>\n",
       "      <th>Activity</th>\n",
       "      <th>Browser</th>\n",
       "      <th>OS</th>\n",
       "    </tr>\n",
       "  </thead>\n",
       "  <tbody>\n",
       "    <tr>\n",
       "      <th>3452388</th>\n",
       "      <td>WI10000020634</td>\n",
       "      <td>2018-05-18 10:43:56.628</td>\n",
       "      <td>PR100258</td>\n",
       "      <td>U100002</td>\n",
       "      <td>PAGELOAD</td>\n",
       "      <td>CHROME MOBILE</td>\n",
       "      <td>ANDROID</td>\n",
       "    </tr>\n",
       "    <tr>\n",
       "      <th>5179952</th>\n",
       "      <td>WI10000020634</td>\n",
       "      <td>2018-05-18 10:39:53.385</td>\n",
       "      <td>PR101097</td>\n",
       "      <td>U100002</td>\n",
       "      <td>NaN</td>\n",
       "      <td>CHROME MOBILE</td>\n",
       "      <td>ANDROID</td>\n",
       "    </tr>\n",
       "    <tr>\n",
       "      <th>4655019</th>\n",
       "      <td>WI10000020634</td>\n",
       "      <td>2018-05-18 10:39:46.717</td>\n",
       "      <td>PR100258</td>\n",
       "      <td>U100002</td>\n",
       "      <td>CLICK</td>\n",
       "      <td>CHROME MOBILE</td>\n",
       "      <td>ANDROID</td>\n",
       "    </tr>\n",
       "    <tr>\n",
       "      <th>270999</th>\n",
       "      <td>WI10000020634</td>\n",
       "      <td>2018-05-18 10:39:41.834</td>\n",
       "      <td>PR100258</td>\n",
       "      <td>U100002</td>\n",
       "      <td>NaN</td>\n",
       "      <td>CHROME MOBILE</td>\n",
       "      <td>ANDROID</td>\n",
       "    </tr>\n",
       "    <tr>\n",
       "      <th>5811371</th>\n",
       "      <td>WI10000020634</td>\n",
       "      <td>2018-05-18 10:35:29.008</td>\n",
       "      <td>PR100258</td>\n",
       "      <td>U100002</td>\n",
       "      <td>PAGELOAD</td>\n",
       "      <td>CHROME MOBILE</td>\n",
       "      <td>ANDROID</td>\n",
       "    </tr>\n",
       "  </tbody>\n",
       "</table>\n",
       "</div>"
      ],
      "text/plain": [
       "           webClientID           VisitDateTime ProductID   UserID  Activity  \\\n",
       "3452388  WI10000020634 2018-05-18 10:43:56.628  PR100258  U100002  PAGELOAD   \n",
       "5179952  WI10000020634 2018-05-18 10:39:53.385  PR101097  U100002       NaN   \n",
       "4655019  WI10000020634 2018-05-18 10:39:46.717  PR100258  U100002     CLICK   \n",
       "270999   WI10000020634 2018-05-18 10:39:41.834  PR100258  U100002       NaN   \n",
       "5811371  WI10000020634 2018-05-18 10:35:29.008  PR100258  U100002  PAGELOAD   \n",
       "\n",
       "               Browser       OS  \n",
       "3452388  CHROME MOBILE  ANDROID  \n",
       "5179952  CHROME MOBILE  ANDROID  \n",
       "4655019  CHROME MOBILE  ANDROID  \n",
       "270999   CHROME MOBILE  ANDROID  \n",
       "5811371  CHROME MOBILE  ANDROID  "
      ]
     },
     "execution_count": 22,
     "metadata": {},
     "output_type": "execute_result"
    }
   ],
   "source": [
    "vistorlog_filter = vistorlog_filter.sort_values(by=['UserID','VisitDateTime'], ascending=[True,False])\n",
    "vistorlog_filter.head()"
   ]
  },
  {
   "cell_type": "code",
   "execution_count": 23,
   "metadata": {},
   "outputs": [],
   "source": [
    "vistorlog_filter['Activity'].ffill(inplace =True)"
   ]
  },
  {
   "cell_type": "code",
   "execution_count": 24,
   "metadata": {},
   "outputs": [],
   "source": [
    "# No_of_days_Visited_7_Days(How many days a user was active on platform in the last 7 days.)\n",
    "\n",
    "vistorlog_filter['VisitDateTime_only'] = vistorlog_filter['VisitDateTime'].dt.date"
   ]
  },
  {
   "cell_type": "code",
   "execution_count": 25,
   "metadata": {},
   "outputs": [],
   "source": [
    "def Visited_7_Days(df): \n",
    "    df = df.copy()\n",
    "    enddate = df.VisitDateTime_only.max()\n",
    "    strdate = df.VisitDateTime_only.max() - timedelta(days=6) \n",
    "\n",
    "    return df[(df.VisitDateTime_only >= strdate) & (df.VisitDateTime_only < enddate+timedelta(days=1) )]\n",
    "    \n",
    "# Visited_7_Days(df_inner)"
   ]
  },
  {
   "cell_type": "code",
   "execution_count": 26,
   "metadata": {},
   "outputs": [],
   "source": [
    "def fun_No_of_days_Visited_7_Days( ):\n",
    "\n",
    "    df1 = Visited_7_Days(vistorlog_filter)\n",
    "    df1 = df1[['UserID','VisitDateTime_only']]\n",
    "    df1.drop_duplicates(inplace=True)\n",
    "    No_of_days_Visited_7_Days = df1.groupby('UserID')['VisitDateTime_only'].count().to_dict()\n",
    "    return No_of_days_Visited_7_Days\n",
    "    \n",
    "# fun_No_of_days_Visited_7_Days()      "
   ]
  },
  {
   "cell_type": "code",
   "execution_count": 27,
   "metadata": {},
   "outputs": [],
   "source": [
    "# set(df_inner.UserID.values)\n",
    "vistorlog_filter['No_of_days_Visited_7_Days'] = vistorlog_filter['UserID'].map(fun_No_of_days_Visited_7_Days())\n",
    "vistorlog_filter['No_of_days_Visited_7_Days'].fillna(0, inplace=True)"
   ]
  },
  {
   "cell_type": "code",
   "execution_count": 28,
   "metadata": {},
   "outputs": [],
   "source": [
    "# No_Of_Products_Viewed_15_Days(Number of Products viewed by the user in the last 15 days)\n",
    "\n",
    "def Visited_15_Days(df):\n",
    "    df = df.copy()\n",
    "    enddate = df.VisitDateTime_only.max()\n",
    "    strdate = df.VisitDateTime_only.max() - timedelta(days=14) \n",
    "    return df[(df.VisitDateTime_only >= strdate) & (df.VisitDateTime_only < enddate+timedelta(days=1))]"
   ]
  },
  {
   "cell_type": "code",
   "execution_count": 29,
   "metadata": {},
   "outputs": [],
   "source": [
    "def fun_No_Of_Products_Viewed_15_Days( ):\n",
    "\n",
    "    df1 = Visited_15_Days(vistorlog_filter)\n",
    "    df1 = df1[['UserID','ProductID']]\n",
    "    df1.drop_duplicates(inplace=True)\n",
    "    No_Of_Products_Viewed_15_Days = df1.groupby('UserID')['ProductID'].count().to_dict()\n",
    "    return No_Of_Products_Viewed_15_Days"
   ]
  },
  {
   "cell_type": "code",
   "execution_count": 30,
   "metadata": {},
   "outputs": [],
   "source": [
    "vistorlog_filter['No_Of_Products_Viewed_15_Days'] = vistorlog_filter['UserID'].map(fun_No_Of_Products_Viewed_15_Days())\n",
    "vistorlog_filter['No_Of_Products_Viewed_15_Days'].fillna(0, inplace=True)\n",
    "\n"
   ]
  },
  {
   "cell_type": "code",
   "execution_count": 31,
   "metadata": {},
   "outputs": [],
   "source": [
    "usertab = usertab.sort_values(by='UserID')"
   ]
  },
  {
   "cell_type": "code",
   "execution_count": 32,
   "metadata": {},
   "outputs": [],
   "source": [
    "# User_Vintage(Vintage (In Days) of the user as of today)\n",
    "\n",
    "usertab['User_Vintage'] = usertab['Signup Date'].apply(lambda x : (pd.to_datetime('2018-5-28',utc=True)-x))"
   ]
  },
  {
   "cell_type": "code",
   "execution_count": 33,
   "metadata": {},
   "outputs": [],
   "source": [
    "usertab['User_Vintage'] = usertab['Signup Date'].apply(lambda x : (pd.to_datetime('2018-5-28',utc=True)-x))\n",
    "usertab['User_Vintage'] = usertab['User_Vintage'].dt.days"
   ]
  },
  {
   "cell_type": "code",
   "execution_count": 34,
   "metadata": {},
   "outputs": [],
   "source": [
    "# Most_Active_OS(Most Frequently used OS by user. )\n",
    "\n",
    "# Most_Active_OS = df_inner.groupby(['UserID'])['OS'].agg(pd.Series.mode).to_dict()\n",
    "# df_inner['Most_Active_OS'] = df_inner['UserID'].map(Most_Active_OS)\n",
    "# df_inner['Most_Active_OS'].apply(tuple)"
   ]
  },
  {
   "cell_type": "code",
   "execution_count": 35,
   "metadata": {},
   "outputs": [],
   "source": [
    "active_os_temp = vistorlog_filter[['UserID','OS','Browser']].groupby(['UserID','OS'])['Browser'].count().reset_index().sort_values(by='OS')\n",
    "\n",
    "#most active os\n",
    "\n",
    "active_os=active_os_temp.iloc[active_os_temp.groupby('UserID').apply(lambda x: x['Browser'].idxmax())]\n",
    "\n",
    "#create dic to map\n",
    "\n",
    "active_os_dic = pd.Series(active_os['OS'].values,index=active_os['UserID']).to_dict()\n",
    "vistorlog_filter['Most_Active_OS']= vistorlog_filter['UserID'].map(active_os_dic)"
   ]
  },
  {
   "cell_type": "code",
   "execution_count": 36,
   "metadata": {},
   "outputs": [],
   "source": [
    "# Pageloads_last_7_days (Count of Page loads in the last 7 days by the user)\n",
    "def fun_Pageloads_last_7_days():\n",
    "    df1 = Visited_7_Days(vistorlog_filter)\n",
    "    df1= df1[['UserID','Activity']][df1.Activity =='PAGELOAD']\n",
    "    return df1.groupby('UserID')['Activity'].count().to_dict()\n",
    "\n",
    "vistorlog_filter['Pageloads_last_7_days'] = vistorlog_filter['UserID'].map(fun_Pageloads_last_7_days())\n",
    "vistorlog_filter['Pageloads_last_7_days'].fillna(0,inplace=True)\n",
    "\n"
   ]
  },
  {
   "cell_type": "code",
   "execution_count": 37,
   "metadata": {},
   "outputs": [],
   "source": [
    "# Clicks_last_7_days(Count of Clicks in the last 7 days  by the user)\n",
    "def fun_Clicks_last_7_days():\n",
    "    df1 = Visited_7_Days(vistorlog_filter)\n",
    "    df1= df1[['UserID','Activity']][df1.Activity =='CLICK']\n",
    "    return df1.groupby('UserID')['Activity'].count().to_dict()\n",
    "\n",
    "vistorlog_filter['Clicks_last_7_days'] = vistorlog_filter['UserID'].map(fun_Clicks_last_7_days())\n",
    "vistorlog_filter['Clicks_last_7_days'].fillna(0,inplace=True)"
   ]
  },
  {
   "cell_type": "code",
   "execution_count": 38,
   "metadata": {},
   "outputs": [],
   "source": [
    "# Recently_Viewed_Product('Most recently viewed (page loads) product by the user.\n",
    "# If a user has not viewed any product then put it as Product101.')\n",
    "df_product = vistorlog_filter[vistorlog_filter.ProductID.notnull()][vistorlog_filter.Activity =='PAGELOAD'].groupby(['UserID','ProductID'])['VisitDateTime'].max().reset_index().sort_values(by=['UserID','VisitDateTime'], ascending =[True,False])\n",
    "df_product = df_product.loc[df_product.groupby(['UserID'])['VisitDateTime'].idxmax()]\n",
    "\n",
    "Recently_Viewed_Product_dict = pd.Series(df_product.ProductID.values,index=df_product.UserID).to_dict()\n",
    "# Recently_Viewed_Product_dict"
   ]
  },
  {
   "cell_type": "code",
   "execution_count": 39,
   "metadata": {},
   "outputs": [],
   "source": [
    "vistorlog_filter['Recently_Viewed_Product'] = vistorlog_filter['UserID'].map(Recently_Viewed_Product_dict)\n",
    "vistorlog_filter['Recently_Viewed_Product'].fillna('Product101',inplace=True)"
   ]
  },
  {
   "cell_type": "code",
   "execution_count": 40,
   "metadata": {},
   "outputs": [],
   "source": [
    "# Most_Viewed_product_15_Days (Most frequently viewed (page loads) product by the user in the last 15 days. \n",
    "#If there are multiple products that have a similar number of page loads then , consider the recent one. \n",
    "#If a user has not viewed any product in the last 15 days then put it as Product101. )"
   ]
  },
  {
   "cell_type": "code",
   "execution_count": 41,
   "metadata": {},
   "outputs": [],
   "source": [
    "def fun_No_Of_Products_Viewed_15_Days( ):\n",
    "    df1 = Visited_15_Days(vistorlog_filter)\n",
    "    df1 = df1[['UserID','ProductID','VisitDateTime','Activity']][df1.Activity =='PAGELOAD'][df1.ProductID.notnull()]\n",
    "#     df1.drop_duplicates(inplace=True)\n",
    "    df_temp = df1.groupby(['UserID','ProductID']).agg({'ProductID':'count','VisitDateTime':'max'}).rename(columns={'ProductID':'COUNT','VisitDateTime':'MAX_TIME'}).reset_index().sort_values(by=['UserID','COUNT','MAX_TIME'], ascending=[True,False,False])\n",
    "    df_temp = df_temp.loc[df_temp.groupby(['UserID'])['COUNT'].idxmax()]\n",
    "    Most_Viewed_product_Product_dict = pd.Series(df_product.ProductID.values,index=df_product.UserID).to_dict()\n",
    "    return Most_Viewed_product_Product_dict\n",
    "\n",
    "# fun_No_Of_Products_Viewed_5_Days()"
   ]
  },
  {
   "cell_type": "code",
   "execution_count": 42,
   "metadata": {},
   "outputs": [],
   "source": [
    "vistorlog_filter['Most_Viewed_product_15_Days'] = vistorlog_filter['UserID'].map(fun_No_Of_Products_Viewed_15_Days())\n",
    "vistorlog_filter['Most_Viewed_product_15_Days'].fillna('Product101',inplace=True)"
   ]
  },
  {
   "cell_type": "code",
   "execution_count": 43,
   "metadata": {},
   "outputs": [],
   "source": [
    "df_final = vistorlog_filter[['UserID','No_of_days_Visited_7_Days','No_Of_Products_Viewed_15_Days','Most_Viewed_product_15_Days','Most_Active_OS','Recently_Viewed_Product','Pageloads_last_7_days','Clicks_last_7_days']]"
   ]
  },
  {
   "cell_type": "code",
   "execution_count": 44,
   "metadata": {},
   "outputs": [],
   "source": [
    "df_final.drop_duplicates(inplace = True)"
   ]
  },
  {
   "cell_type": "code",
   "execution_count": 45,
   "metadata": {},
   "outputs": [],
   "source": [
    "df_final['User_Vintage'] = usertab['User_Vintage'].values"
   ]
  },
  {
   "cell_type": "code",
   "execution_count": 46,
   "metadata": {},
   "outputs": [
    {
     "data": {
      "text/plain": [
       "Index(['UserID', 'No_of_days_Visited_7_Days', 'No_Of_Products_Viewed_15_Days',\n",
       "       'User_Vintage', 'Most_Viewed_product_15_Days', 'Most_Active_OS',\n",
       "       'Recently_Viewed_Product', 'Pageloads_last_7_days',\n",
       "       'Clicks_last_7_days'],\n",
       "      dtype='object')"
      ]
     },
     "execution_count": 46,
     "metadata": {},
     "output_type": "execute_result"
    }
   ],
   "source": [
    "result = pd.read_csv('sample_submission_M7Vpb9f.csv')\n",
    "result.columns"
   ]
  },
  {
   "cell_type": "code",
   "execution_count": 47,
   "metadata": {},
   "outputs": [],
   "source": [
    "df_final = df_final[['UserID', 'No_of_days_Visited_7_Days', 'No_Of_Products_Viewed_15_Days',\n",
    "       'User_Vintage', 'Most_Viewed_product_15_Days', 'Most_Active_OS',\n",
    "       'Recently_Viewed_Product', 'Pageloads_last_7_days',\n",
    "       'Clicks_last_7_days']]"
   ]
  },
  {
   "cell_type": "code",
   "execution_count": 48,
   "metadata": {},
   "outputs": [
    {
     "data": {
      "text/html": [
       "<div>\n",
       "<style scoped>\n",
       "    .dataframe tbody tr th:only-of-type {\n",
       "        vertical-align: middle;\n",
       "    }\n",
       "\n",
       "    .dataframe tbody tr th {\n",
       "        vertical-align: top;\n",
       "    }\n",
       "\n",
       "    .dataframe thead th {\n",
       "        text-align: right;\n",
       "    }\n",
       "</style>\n",
       "<table border=\"1\" class=\"dataframe\">\n",
       "  <thead>\n",
       "    <tr style=\"text-align: right;\">\n",
       "      <th></th>\n",
       "      <th>UserID</th>\n",
       "      <th>No_of_days_Visited_7_Days</th>\n",
       "      <th>No_Of_Products_Viewed_15_Days</th>\n",
       "      <th>User_Vintage</th>\n",
       "      <th>Most_Viewed_product_15_Days</th>\n",
       "      <th>Most_Active_OS</th>\n",
       "      <th>Recently_Viewed_Product</th>\n",
       "      <th>Pageloads_last_7_days</th>\n",
       "      <th>Clicks_last_7_days</th>\n",
       "    </tr>\n",
       "  </thead>\n",
       "  <tbody>\n",
       "    <tr>\n",
       "      <th>3452388</th>\n",
       "      <td>U100002</td>\n",
       "      <td>0.0</td>\n",
       "      <td>2.0</td>\n",
       "      <td>52</td>\n",
       "      <td>PR100258</td>\n",
       "      <td>ANDROID</td>\n",
       "      <td>PR100258</td>\n",
       "      <td>0.0</td>\n",
       "      <td>0.0</td>\n",
       "    </tr>\n",
       "    <tr>\n",
       "      <th>341562</th>\n",
       "      <td>U100003</td>\n",
       "      <td>1.0</td>\n",
       "      <td>2.0</td>\n",
       "      <td>1020</td>\n",
       "      <td>PR100079</td>\n",
       "      <td>WINDOWS</td>\n",
       "      <td>PR100079</td>\n",
       "      <td>1.0</td>\n",
       "      <td>2.0</td>\n",
       "    </tr>\n",
       "    <tr>\n",
       "      <th>2261134</th>\n",
       "      <td>U100004</td>\n",
       "      <td>1.0</td>\n",
       "      <td>15.0</td>\n",
       "      <td>340</td>\n",
       "      <td>PR100069</td>\n",
       "      <td>WINDOWS</td>\n",
       "      <td>PR100069</td>\n",
       "      <td>1.0</td>\n",
       "      <td>0.0</td>\n",
       "    </tr>\n",
       "    <tr>\n",
       "      <th>1765326</th>\n",
       "      <td>U100005</td>\n",
       "      <td>1.0</td>\n",
       "      <td>3.0</td>\n",
       "      <td>680</td>\n",
       "      <td>PR100234</td>\n",
       "      <td>ANDROID</td>\n",
       "      <td>PR100234</td>\n",
       "      <td>2.0</td>\n",
       "      <td>0.0</td>\n",
       "    </tr>\n",
       "    <tr>\n",
       "      <th>5832241</th>\n",
       "      <td>U100006</td>\n",
       "      <td>1.0</td>\n",
       "      <td>1.0</td>\n",
       "      <td>54</td>\n",
       "      <td>PR101111</td>\n",
       "      <td>ANDROID</td>\n",
       "      <td>PR101111</td>\n",
       "      <td>1.0</td>\n",
       "      <td>0.0</td>\n",
       "    </tr>\n",
       "  </tbody>\n",
       "</table>\n",
       "</div>"
      ],
      "text/plain": [
       "          UserID  No_of_days_Visited_7_Days  No_Of_Products_Viewed_15_Days  \\\n",
       "3452388  U100002                        0.0                            2.0   \n",
       "341562   U100003                        1.0                            2.0   \n",
       "2261134  U100004                        1.0                           15.0   \n",
       "1765326  U100005                        1.0                            3.0   \n",
       "5832241  U100006                        1.0                            1.0   \n",
       "\n",
       "         User_Vintage Most_Viewed_product_15_Days Most_Active_OS  \\\n",
       "3452388            52                    PR100258        ANDROID   \n",
       "341562           1020                    PR100079        WINDOWS   \n",
       "2261134           340                    PR100069        WINDOWS   \n",
       "1765326           680                    PR100234        ANDROID   \n",
       "5832241            54                    PR101111        ANDROID   \n",
       "\n",
       "        Recently_Viewed_Product  Pageloads_last_7_days  Clicks_last_7_days  \n",
       "3452388                PR100258                    0.0                 0.0  \n",
       "341562                 PR100079                    1.0                 2.0  \n",
       "2261134                PR100069                    1.0                 0.0  \n",
       "1765326                PR100234                    2.0                 0.0  \n",
       "5832241                PR101111                    1.0                 0.0  "
      ]
     },
     "execution_count": 48,
     "metadata": {},
     "output_type": "execute_result"
    }
   ],
   "source": [
    "df_final.head()"
   ]
  },
  {
   "cell_type": "code",
   "execution_count": 49,
   "metadata": {},
   "outputs": [
    {
     "data": {
      "text/plain": [
       "(34050, 9)"
      ]
     },
     "execution_count": 49,
     "metadata": {},
     "output_type": "execute_result"
    }
   ],
   "source": [
    "df_final.shape"
   ]
  },
  {
   "cell_type": "code",
   "execution_count": 50,
   "metadata": {},
   "outputs": [],
   "source": [
    "df_final.to_csv('sample_submission_8.csv', index=False)"
   ]
  },
  {
   "cell_type": "code",
   "execution_count": null,
   "metadata": {},
   "outputs": [],
   "source": []
  }
 ],
 "metadata": {
  "kernelspec": {
   "display_name": "Python 3",
   "language": "python",
   "name": "python3"
  },
  "language_info": {
   "codemirror_mode": {
    "name": "ipython",
    "version": 3
   },
   "file_extension": ".py",
   "mimetype": "text/x-python",
   "name": "python",
   "nbconvert_exporter": "python",
   "pygments_lexer": "ipython3",
   "version": "3.8.3"
  }
 },
 "nbformat": 4,
 "nbformat_minor": 4
}
